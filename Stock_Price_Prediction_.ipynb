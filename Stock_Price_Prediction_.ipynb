{
 "cells": [
  {
   "cell_type": "code",
   "execution_count": null,
   "id": "71a49c84",
   "metadata": {},
   "outputs": [],
   "source": [
    "\n",
    "import pandas as pd\n",
    "import numpy as np\n",
    "import matplotlib.pyplot as plt\n",
    "import seaborn as sns\n",
    "import tensorflow as tf\n",
    "from tensorflow import keras\n",
    "from sklearn.preprocessing import MinMaxScaler\n",
    "from sklearn.metrics import mean_squared_error\n",
    "import math\n",
    "from datetime import datetime\n",
    "\n",
    "import warnings\n",
    "warnings.filterwarnings(\"ignore\")\n"
   ]
  },
  {
   "cell_type": "code",
   "execution_count": null,
   "id": "35f1eb55",
   "metadata": {},
   "outputs": [],
   "source": [
    "\n",
    "# Load the dataset\n",
    "data = pd.read_csv('all_stocks_5yr.csv', on_bad_lines='skip')\n",
    "print(\"Initial shape:\", data.shape)\n",
    "data.head()\n"
   ]
  },
  {
   "cell_type": "code",
   "execution_count": null,
   "id": "40041b98",
   "metadata": {},
   "outputs": [],
   "source": [
    "\n",
    "# Check for missing values and remove them\n",
    "print(data.isnull().sum())\n",
    "data = data.dropna()\n",
    "\n",
    "# Convert date column to datetime and sort\n",
    "data['date'] = pd.to_datetime(data['date'])\n",
    "data = data.sort_values('date')\n"
   ]
  },
  {
   "cell_type": "code",
   "execution_count": null,
   "id": "5f1d7f64",
   "metadata": {},
   "outputs": [],
   "source": [
    "\n",
    "# Select one company for prediction (e.g., AAPL)\n",
    "company_df = data[data['Name'] == 'AAPL'].copy()\n",
    "company_df = company_df.sort_values('date').reset_index(drop=True)\n",
    "\n",
    "# Plot open vs close prices\n",
    "plt.figure(figsize=(12,6))\n",
    "plt.plot(company_df['date'], company_df['close'], label='Close Price', color='red')\n",
    "plt.plot(company_df['date'], company_df['open'], label='Open Price', color='green')\n",
    "plt.title('AAPL Stock Prices')\n",
    "plt.xlabel('Date')\n",
    "plt.ylabel('Price')\n",
    "plt.legend()\n",
    "plt.grid(True)\n",
    "plt.show()\n"
   ]
  },
  {
   "cell_type": "code",
   "execution_count": null,
   "id": "2761c2e7",
   "metadata": {},
   "outputs": [],
   "source": [
    "\n",
    "# Scale close prices\n",
    "scaler = MinMaxScaler()\n",
    "scaled_data = scaler.fit_transform(company_df[['close']])\n",
    "\n",
    "# Create sequences\n",
    "def create_sequences(data, seq_length):\n",
    "    X, y = [], []\n",
    "    for i in range(len(data) - seq_length):\n",
    "        X.append(data[i:i+seq_length])\n",
    "        y.append(data[i+seq_length])\n",
    "    return np.array(X), np.array(y)\n",
    "\n",
    "seq_length = 60\n",
    "X, y = create_sequences(scaled_data, seq_length)\n",
    "\n",
    "# Train-test split (time-based)\n",
    "train_size = int(len(X) * 0.8)\n",
    "X_train, X_test = X[:train_size], X[train_size:]\n",
    "y_train, y_test = y[:train_size], y[train_size:]\n",
    "\n",
    "# Reshape for LSTM [samples, time_steps, features]\n",
    "X_train = X_train.reshape((X_train.shape[0], X_train.shape[1], 1))\n",
    "X_test = X_test.reshape((X_test.shape[0], X_test.shape[1], 1))\n"
   ]
  },
  {
   "cell_type": "code",
   "execution_count": null,
   "id": "776341fd",
   "metadata": {},
   "outputs": [],
   "source": [
    "\n",
    "model = keras.Sequential([\n",
    "    keras.layers.LSTM(100, return_sequences=True, input_shape=(X_train.shape[1], 1)),\n",
    "    keras.layers.Dropout(0.2),\n",
    "    keras.layers.LSTM(50),\n",
    "    keras.layers.Dropout(0.2),\n",
    "    keras.layers.Dense(1)\n",
    "])\n",
    "\n",
    "model.compile(optimizer='adam', loss='mean_squared_error')\n",
    "model.summary()\n"
   ]
  },
  {
   "cell_type": "code",
   "execution_count": null,
   "id": "eab2958d",
   "metadata": {},
   "outputs": [],
   "source": [
    "\n",
    "history = model.fit(X_train, y_train, epochs=20, batch_size=32, validation_data=(X_test, y_test))\n"
   ]
  },
  {
   "cell_type": "code",
   "execution_count": null,
   "id": "9ba5d004",
   "metadata": {},
   "outputs": [],
   "source": [
    "\n",
    "predicted_prices = scaler.inverse_transform(model.predict(X_test))\n",
    "actual_prices = scaler.inverse_transform(y_test.reshape(-1, 1))\n",
    "\n",
    "# Plot predictions vs actual\n",
    "plt.figure(figsize=(12,6))\n",
    "plt.plot(company_df['date'][-len(actual_prices):], actual_prices, color='blue', label='Actual Price')\n",
    "plt.plot(company_df['date'][-len(predicted_prices):], predicted_prices, color='red', label='Predicted Price')\n",
    "plt.title('AAPL Stock Price Prediction')\n",
    "plt.xlabel('Date')\n",
    "plt.ylabel('Price')\n",
    "plt.legend()\n",
    "plt.show()\n",
    "\n",
    "# Calculate RMSE\n",
    "rmse = math.sqrt(mean_squared_error(actual_prices, predicted_prices))\n",
    "print(f\"RMSE: {rmse}\")\n"
   ]
  }
 ],
 "metadata": {},
 "nbformat": 4,
 "nbformat_minor": 5
}
